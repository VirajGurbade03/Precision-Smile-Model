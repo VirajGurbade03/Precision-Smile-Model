{
 "cells": [
  {
   "cell_type": "code",
   "execution_count": 2,
   "metadata": {},
   "outputs": [
    {
     "name": "stdout",
     "output_type": "stream",
     "text": [
      "Warning: Missing landmarks file for P44PratikPusam.jpg. Skipping this image.\n"
     ]
    },
    {
     "ename": "FileNotFoundError",
     "evalue": "No valid landmark files found in the dataset directory.",
     "output_type": "error",
     "traceback": [
      "\u001b[1;31m---------------------------------------------------------------------------\u001b[0m",
      "\u001b[1;31mFileNotFoundError\u001b[0m                         Traceback (most recent call last)",
      "Cell \u001b[1;32mIn[2], line 52\u001b[0m\n\u001b[0;32m     50\u001b[0m \u001b[38;5;66;03m# --- Step 3: Train the Model ---\u001b[39;00m\n\u001b[0;32m     51\u001b[0m data_dir \u001b[38;5;241m=\u001b[39m \u001b[38;5;124mr\u001b[39m\u001b[38;5;124m'\u001b[39m\u001b[38;5;124mD:\u001b[39m\u001b[38;5;124m\\\u001b[39m\u001b[38;5;124mCOLLEGE\u001b[39m\u001b[38;5;124m\\\u001b[39m\u001b[38;5;124mProjects\u001b[39m\u001b[38;5;124m\\\u001b[39m\u001b[38;5;124mAI-Driven Cephalometric Analysis\u001b[39m\u001b[38;5;124m\\\u001b[39m\u001b[38;5;124mTracesing_datasets\u001b[39m\u001b[38;5;124m'\u001b[39m  \u001b[38;5;66;03m# Replace with your dataset path\u001b[39;00m\n\u001b[1;32m---> 52\u001b[0m images, landmarks \u001b[38;5;241m=\u001b[39m \u001b[43mload_data\u001b[49m\u001b[43m(\u001b[49m\u001b[43mdata_dir\u001b[49m\u001b[43m)\u001b[49m\n\u001b[0;32m     54\u001b[0m model \u001b[38;5;241m=\u001b[39m build_model()\n\u001b[0;32m     55\u001b[0m model\u001b[38;5;241m.\u001b[39mfit(images, landmarks, epochs\u001b[38;5;241m=\u001b[39m\u001b[38;5;241m50\u001b[39m, batch_size\u001b[38;5;241m=\u001b[39m\u001b[38;5;241m16\u001b[39m, validation_split\u001b[38;5;241m=\u001b[39m\u001b[38;5;241m0.2\u001b[39m)\n",
      "Cell \u001b[1;32mIn[2], line 31\u001b[0m, in \u001b[0;36mload_data\u001b[1;34m(data_dir)\u001b[0m\n\u001b[0;32m     28\u001b[0m             \u001b[38;5;28mprint\u001b[39m(\u001b[38;5;124mf\u001b[39m\u001b[38;5;124m\"\u001b[39m\u001b[38;5;124mWarning: Missing landmarks file for \u001b[39m\u001b[38;5;132;01m{\u001b[39;00mfile\u001b[38;5;132;01m}\u001b[39;00m\u001b[38;5;124m. Skipping this image.\u001b[39m\u001b[38;5;124m\"\u001b[39m)\n\u001b[0;32m     30\u001b[0m \u001b[38;5;28;01mif\u001b[39;00m \u001b[38;5;28mlen\u001b[39m(landmarks) \u001b[38;5;241m==\u001b[39m \u001b[38;5;241m0\u001b[39m:\n\u001b[1;32m---> 31\u001b[0m     \u001b[38;5;28;01mraise\u001b[39;00m \u001b[38;5;167;01mFileNotFoundError\u001b[39;00m(\u001b[38;5;124m\"\u001b[39m\u001b[38;5;124mNo valid landmark files found in the dataset directory.\u001b[39m\u001b[38;5;124m\"\u001b[39m)\n\u001b[0;32m     33\u001b[0m \u001b[38;5;28;01mreturn\u001b[39;00m np\u001b[38;5;241m.\u001b[39marray(images)\u001b[38;5;241m.\u001b[39mreshape(\u001b[38;5;241m-\u001b[39m\u001b[38;5;241m1\u001b[39m, \u001b[38;5;241m128\u001b[39m, \u001b[38;5;241m128\u001b[39m, \u001b[38;5;241m1\u001b[39m), np\u001b[38;5;241m.\u001b[39marray(landmarks)\n",
      "\u001b[1;31mFileNotFoundError\u001b[0m: No valid landmark files found in the dataset directory."
     ]
    }
   ],
   "source": [
    "import tensorflow as tf\n",
    "from tensorflow.keras import layers, models\n",
    "import cv2\n",
    "import numpy as np\n",
    "import math\n",
    "import os\n",
    "\n",
    "# --- Step 1: Data Preparation ---\n",
    "def load_data(data_dir):\n",
    "    images = []\n",
    "    landmarks = []\n",
    "    for file in os.listdir(data_dir):\n",
    "        if file.endswith(\".jpg\") or file.endswith(\".png\"):\n",
    "            # Load X-ray image\n",
    "            img_path = os.path.join(data_dir, file)\n",
    "            img = cv2.imread(img_path, cv2.IMREAD_GRAYSCALE)\n",
    "            img = cv2.resize(img, (128, 128))  # Resize for consistency\n",
    "            images.append(img / 255.0)  # Normalize\n",
    "\n",
    "            # Load corresponding landmarks\n",
    "            landmark_file = file.replace(\".jpg\", \".txt\").replace(\".png\", \".txt\")\n",
    "            landmark_path = os.path.join(data_dir, landmark_file)\n",
    "            if os.path.exists(landmark_path):\n",
    "                with open(landmark_path, 'r') as f:\n",
    "                    landmark = list(map(float, f.read().split()))\n",
    "                    landmarks.append(landmark)\n",
    "            else:\n",
    "                print(f\"Warning: Missing landmarks file for {file}. Skipping this image.\")\n",
    "    \n",
    "    if len(landmarks) == 0:\n",
    "        raise FileNotFoundError(\"No valid landmark files found in the dataset directory.\")\n",
    "    \n",
    "    return np.array(images).reshape(-1, 128, 128, 1), np.array(landmarks)\n",
    "\n",
    "# --- Step 2: Build the Model ---\n",
    "def build_model():\n",
    "    model = models.Sequential([\n",
    "        layers.Conv2D(32, (3, 3), activation='relu', input_shape=(128, 128, 1)),\n",
    "        layers.MaxPooling2D((2, 2)),\n",
    "        layers.Conv2D(64, (3, 3), activation='relu'),\n",
    "        layers.MaxPooling2D((2, 2)),\n",
    "        layers.Conv2D(128, (3, 3), activation='relu'),\n",
    "        layers.Flatten(),\n",
    "        layers.Dense(256, activation='relu'),\n",
    "        layers.Dense(10)  # Assuming 5 landmarks (x, y) = 10 outputs\n",
    "    ])\n",
    "    model.compile(optimizer='adam', loss='mean_squared_error', metrics=['mae'])\n",
    "    return model\n",
    "\n",
    "# --- Step 3: Train the Model ---\n",
    "data_dir = r'D:\\COLLEGE\\Projects\\AI-Driven Cephalometric Analysis\\Tracesing_datasets'  # Replace with your dataset path\n",
    "images, landmarks = load_data(data_dir)\n",
    "\n",
    "model = build_model()\n",
    "model.fit(images, landmarks, epochs=50, batch_size=16, validation_split=0.2)\n",
    "\n",
    "# Save the trained model\n",
    "model.save(\"cephalometric_model.h5\")\n",
    "\n",
    "# --- Step 4: Load Model and Predict Landmarks ---\n",
    "def predict_landmarks(image_path, model_path=\"cephalometric_model.h5\"):\n",
    "    model = tf.keras.models.load_model(model_path)\n",
    "    img = cv2.imread(image_path, cv2.IMREAD_GRAYSCALE)\n",
    "    if img is None:\n",
    "        raise FileNotFoundError(f\"Image not found: {image_path}\")\n",
    "    img_resized = cv2.resize(img, (128, 128)) / 255.0\n",
    "    prediction = model.predict(img_resized.reshape(1, 128, 128, 1))\n",
    "    if prediction.shape[1] != 10:\n",
    "        raise ValueError(\"Prediction does not contain expected 10 landmark values.\")\n",
    "    return prediction.reshape(-1, 2)  # Reshape into [(x1, y1), (x2, y2), ...]\n",
    "\n",
    "# --- Step 5: Calculate Angles ---\n",
    "def calculate_angles(landmarks):\n",
    "    if len(landmarks) < 4:\n",
    "        raise ValueError(\"Insufficient landmarks for angle calculation.\")\n",
    "    S, N, A, B = landmarks[0], landmarks[1], landmarks[2], landmarks[3]\n",
    "    \n",
    "    def angle_between(p1, p2, p3):\n",
    "        v1 = np.array([p1[0] - p2[0], p1[1] - p2[1]])\n",
    "        v2 = np.array([p3[0] - p2[0], p3[1] - p2[1]])\n",
    "        cosine_angle = np.dot(v1, v2) / (np.linalg.norm(v1) * np.linalg.norm(v2))\n",
    "        angle = np.arccos(cosine_angle)\n",
    "        return np.degrees(angle)\n",
    "\n",
    "    SNA = angle_between(S, N, A)\n",
    "    SNB = angle_between(S, N, B)\n",
    "    ANB = SNA - SNB\n",
    "\n",
    "    return {\"SNA\": SNA, \"SNB\": SNB, \"ANB\": ANB}\n",
    "\n",
    "# --- Step 6: Test the Model ---\n",
    "image_path = r\"D:\\COLLEGE\\Projects\\AI-Driven Cephalometric Analysis\\Percision Smile\\Data\\p2 gaurav2.jpeg\"  # Replace with your test image\n",
    "landmarks = predict_landmarks(image_path)\n",
    "angles = calculate_angles(landmarks)\n",
    "\n",
    "print(\"Measured Angles:\")\n",
    "print(f\"SNA: {angles['SNA']:.2f}°\")\n",
    "print(f\"SNB: {angles['SNB']:.2f}°\")\n",
    "print(f\"ANB: {angles['ANB']:.2f}°\")\n"
   ]
  },
  {
   "cell_type": "code",
   "execution_count": 2,
   "metadata": {},
   "outputs": [
    {
     "name": "stdout",
     "output_type": "stream",
     "text": [
      "['P44PratikPusam.jpg']\n"
     ]
    }
   ],
   "source": [
    "import os\n",
    "data_dir = r'D:\\COLLEGE\\Projects\\AI-Driven Cephalometric Analysis\\Tracesing_datasets'\n",
    "files = os.listdir(data_dir)\n",
    "print(files)  # List all files in the directory to verify landmark file existence\n"
   ]
  },
  {
   "cell_type": "code",
   "execution_count": 6,
   "metadata": {},
   "outputs": [
    {
     "name": "stdout",
     "output_type": "stream",
     "text": [
      "No valid landmark files found in the dataset directory. Missing landmarks: ['P44PratikPusam.jpg']\n"
     ]
    }
   ],
   "source": [
    "def load_data(data_dir):\n",
    "    images = []\n",
    "    landmarks = []\n",
    "    missing_landmarks = []\n",
    "    for file in os.listdir(data_dir):\n",
    "        if file.endswith(\".jpg\") or file.endswith(\".png\"):\n",
    "            # Load X-ray image\n",
    "            img_path = os.path.join(data_dir, file)\n",
    "            img = cv2.imread(img_path, cv2.IMREAD_GRAYSCALE)\n",
    "            img = cv2.resize(img, (128, 128))  # Resize for consistency\n",
    "            images.append(img / 255.0)  # Normalize\n",
    "\n",
    "            # Load corresponding landmarks\n",
    "            landmark_file = file.replace(\".jpg\", \".txt\").replace(\".png\", \".txt\")\n",
    "            landmark_path = os.path.join(data_dir, landmark_file)\n",
    "            if os.path.exists(landmark_path):\n",
    "                with open(landmark_path, 'r') as f:\n",
    "                    landmark = list(map(float, f.read().split()))\n",
    "                    landmarks.append(landmark)\n",
    "            else:\n",
    "                missing_landmarks.append(file)  # Add to missing list\n",
    "                \n",
    "    if len(landmarks) == 0:\n",
    "        raise FileNotFoundError(f\"No valid landmark files found in the dataset directory. Missing landmarks: {missing_landmarks}\")\n",
    "    \n",
    "    return np.array(images).reshape(-1, 128, 128, 1), np.array(landmarks)\n",
    "\n",
    "# Test the function\n",
    "try:\n",
    "    images, landmarks = load_data(data_dir)\n",
    "except FileNotFoundError as e:\n",
    "    print(e)\n",
    "\n"
   ]
  }
 ],
 "metadata": {
  "kernelspec": {
   "display_name": "Python 3",
   "language": "python",
   "name": "python3"
  },
  "language_info": {
   "codemirror_mode": {
    "name": "ipython",
    "version": 3
   },
   "file_extension": ".py",
   "mimetype": "text/x-python",
   "name": "python",
   "nbconvert_exporter": "python",
   "pygments_lexer": "ipython3",
   "version": "3.12.8"
  }
 },
 "nbformat": 4,
 "nbformat_minor": 2
}
